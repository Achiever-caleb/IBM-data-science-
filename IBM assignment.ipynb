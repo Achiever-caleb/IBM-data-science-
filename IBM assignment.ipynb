{
 "cells": [
  {
   "cell_type": "markdown",
   "id": "6bf757f4",
   "metadata": {},
   "source": [
    "# My Jupyter Notebook on IBM Watson Studio"
   ]
  },
  {
   "cell_type": "markdown",
   "id": "0d2dc1ce",
   "metadata": {},
   "source": [
    "**Caleb Okon**\n",
    "\n",
    "data scientist"
   ]
  },
  {
   "cell_type": "markdown",
   "id": "c6c254b8",
   "metadata": {},
   "source": [
    "*I am interested in data science because i will like to create a solution that will change the world*"
   ]
  },
  {
   "cell_type": "markdown",
   "id": "607d8a40",
   "metadata": {},
   "source": [
    "### my code in cell 5 is supposed to print the product of 9 and 5"
   ]
  },
  {
   "cell_type": "code",
   "execution_count": 4,
   "id": "a264401e",
   "metadata": {},
   "outputs": [
    {
     "name": "stdout",
     "output_type": "stream",
     "text": [
      "45\n"
     ]
    }
   ],
   "source": [
    "print (9*5)"
   ]
  },
  {
   "cell_type": "markdown",
   "id": "d125b491",
   "metadata": {},
   "source": [
    "|name|age|mark|\n",
    "|----|---|----|\n",
    "|Ike|52|65|\n",
    "|james|65|92|\n",
    "\n",
    "[First peer graded assignment](https://goal.com)\n",
    "\n",
    "- python\n",
    " - pycharm\n",
    " - numpy\n",
    " - pandas"
   ]
  },
  {
   "cell_type": "code",
   "execution_count": null,
   "id": "b1c75ff4",
   "metadata": {},
   "outputs": [],
   "source": []
  }
 ],
 "metadata": {
  "kernelspec": {
   "display_name": "Python 3 (ipykernel)",
   "language": "python",
   "name": "python3"
  },
  "language_info": {
   "codemirror_mode": {
    "name": "ipython",
    "version": 3
   },
   "file_extension": ".py",
   "mimetype": "text/x-python",
   "name": "python",
   "nbconvert_exporter": "python",
   "pygments_lexer": "ipython3",
   "version": "3.9.12"
  }
 },
 "nbformat": 4,
 "nbformat_minor": 5
}
